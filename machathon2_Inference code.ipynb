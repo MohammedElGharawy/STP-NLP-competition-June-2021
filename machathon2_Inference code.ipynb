{
  "nbformat": 4,
  "nbformat_minor": 0,
  "metadata": {
    "accelerator": "GPU",
    "colab": {
      "name": "machathon2_final.ipynb",
      "provenance": [],
      "collapsed_sections": []
    },
    "kernelspec": {
      "display_name": "Python 3",
      "name": "python3"
    },
    "language_info": {
      "name": "python"
    }
  },
  "cells": [
    {
      "cell_type": "code",
      "metadata": {
        "colab": {
          "base_uri": "https://localhost:8080/"
        },
        "id": "yJMHkiV7SG9n",
        "outputId": "24654e5e-c588-4e3f-cec8-385959c6ba84"
      },
      "source": [
        "!pip install transformers numpy torch sklearn"
      ],
      "execution_count": null,
      "outputs": [
        {
          "output_type": "stream",
          "text": [
            "Requirement already satisfied: transformers in /usr/local/lib/python3.7/dist-packages (4.6.1)\n",
            "Requirement already satisfied: numpy in /usr/local/lib/python3.7/dist-packages (1.19.5)\n",
            "Requirement already satisfied: torch in /usr/local/lib/python3.7/dist-packages (1.8.1+cu101)\n",
            "Requirement already satisfied: sklearn in /usr/local/lib/python3.7/dist-packages (0.0)\n",
            "Requirement already satisfied: packaging in /usr/local/lib/python3.7/dist-packages (from transformers) (20.9)\n",
            "Requirement already satisfied: requests in /usr/local/lib/python3.7/dist-packages (from transformers) (2.23.0)\n",
            "Requirement already satisfied: tokenizers<0.11,>=0.10.1 in /usr/local/lib/python3.7/dist-packages (from transformers) (0.10.3)\n",
            "Requirement already satisfied: regex!=2019.12.17 in /usr/local/lib/python3.7/dist-packages (from transformers) (2019.12.20)\n",
            "Requirement already satisfied: huggingface-hub==0.0.8 in /usr/local/lib/python3.7/dist-packages (from transformers) (0.0.8)\n",
            "Requirement already satisfied: importlib-metadata; python_version < \"3.8\" in /usr/local/lib/python3.7/dist-packages (from transformers) (4.0.1)\n",
            "Requirement already satisfied: tqdm>=4.27 in /usr/local/lib/python3.7/dist-packages (from transformers) (4.41.1)\n",
            "Requirement already satisfied: filelock in /usr/local/lib/python3.7/dist-packages (from transformers) (3.0.12)\n",
            "Requirement already satisfied: sacremoses in /usr/local/lib/python3.7/dist-packages (from transformers) (0.0.45)\n",
            "Requirement already satisfied: typing-extensions in /usr/local/lib/python3.7/dist-packages (from torch) (3.7.4.3)\n",
            "Requirement already satisfied: scikit-learn in /usr/local/lib/python3.7/dist-packages (from sklearn) (0.22.2.post1)\n",
            "Requirement already satisfied: pyparsing>=2.0.2 in /usr/local/lib/python3.7/dist-packages (from packaging->transformers) (2.4.7)\n",
            "Requirement already satisfied: idna<3,>=2.5 in /usr/local/lib/python3.7/dist-packages (from requests->transformers) (2.10)\n",
            "Requirement already satisfied: certifi>=2017.4.17 in /usr/local/lib/python3.7/dist-packages (from requests->transformers) (2020.12.5)\n",
            "Requirement already satisfied: urllib3!=1.25.0,!=1.25.1,<1.26,>=1.21.1 in /usr/local/lib/python3.7/dist-packages (from requests->transformers) (1.24.3)\n",
            "Requirement already satisfied: chardet<4,>=3.0.2 in /usr/local/lib/python3.7/dist-packages (from requests->transformers) (3.0.4)\n",
            "Requirement already satisfied: zipp>=0.5 in /usr/local/lib/python3.7/dist-packages (from importlib-metadata; python_version < \"3.8\"->transformers) (3.4.1)\n",
            "Requirement already satisfied: six in /usr/local/lib/python3.7/dist-packages (from sacremoses->transformers) (1.15.0)\n",
            "Requirement already satisfied: joblib in /usr/local/lib/python3.7/dist-packages (from sacremoses->transformers) (1.0.1)\n",
            "Requirement already satisfied: click in /usr/local/lib/python3.7/dist-packages (from sacremoses->transformers) (7.1.2)\n",
            "Requirement already satisfied: scipy>=0.17.0 in /usr/local/lib/python3.7/dist-packages (from scikit-learn->sklearn) (1.4.1)\n"
          ],
          "name": "stdout"
        }
      ]
    },
    {
      "cell_type": "code",
      "metadata": {
        "id": "qxT0SvKCRgZ-"
      },
      "source": [
        "# install required packages\n",
        "import pandas as pd\n",
        "import os\n",
        "import torch\n",
        "from transformers.file_utils import is_tf_available, is_torch_available, is_torch_tpu_available\n",
        "from transformers import AutoTokenizer, AutoModel, AutoModelForSequenceClassification\n",
        "from transformers import Trainer, TrainingArguments\n",
        "import numpy as np\n",
        "import random\n",
        "from sklearn.datasets import fetch_20newsgroups\n",
        "from sklearn.model_selection import train_test_split"
      ],
      "execution_count": null,
      "outputs": []
    },
    {
      "cell_type": "code",
      "metadata": {
        "colab": {
          "base_uri": "https://localhost:8080/"
        },
        "id": "OwBC8RkJRaVI",
        "outputId": "443f8cf2-c715-4b5d-ed20-69193569d059"
      },
      "source": [
        "#connect google drive\n",
        "from google.colab import drive\n",
        "drive.mount('/gdrive')"
      ],
      "execution_count": null,
      "outputs": [
        {
          "output_type": "stream",
          "text": [
            "Drive already mounted at /gdrive; to attempt to forcibly remount, call drive.mount(\"/gdrive\", force_remount=True).\n"
          ],
          "name": "stdout"
        }
      ]
    },
    {
      "cell_type": "code",
      "metadata": {
        "id": "xWeWmaVbRlCW"
      },
      "source": [
        "#load training and test data with labels\n",
        "training_text = pd.read_csv('/gdrive/MyDrive/kaggle/Machathon final round/train_ara.csv')\n",
        "testing_text = pd.read_csv('/gdrive/MyDrive/kaggle/Machathon final round/test.csv')\n",
        "labels_text=training_text[\"intent\"].unique()"
      ],
      "execution_count": null,
      "outputs": []
    },
    {
      "cell_type": "code",
      "metadata": {
        "colab": {
          "base_uri": "https://localhost:8080/"
        },
        "id": "biWbOgBp1uvj",
        "outputId": "b8887a66-dbb9-46d9-9e7d-0f0ccc606145"
      },
      "source": [
        "print(labels_text)\n",
        "print(labels_text.shape[0])"
      ],
      "execution_count": null,
      "outputs": [
        {
          "output_type": "stream",
          "text": [
            "['business location' 'nothing identified' 'the evolution of the virus'\n",
            " 'infected cases' 'crush' 'treatment' 'most vulnerable' 'transfer methods'\n",
            " 'sterilization and disinfection' 'greeting' 'precautions' 'symptoms'\n",
            " 'warm weather' 'reviews' 'assessment' 'about corona virus'\n",
            " 'panic among the people' 'muzzle/mask' 'kindness' 'emergency'\n",
            " 'laboratory' 'prayers' 'smoking' 'no' 'how are you' 'comparison'\n",
            " 'about bot' 'food and drinks' 'education and work' 'spoken languages'\n",
            " 'back to work' 'home quarantine' 'gloves' 'curfew' 'breathing test'\n",
            " 'about business' 'end conversation' 'yes' 'infection by animals'\n",
            " 'disease detection']\n",
            "40\n"
          ],
          "name": "stdout"
        }
      ]
    },
    {
      "cell_type": "code",
      "metadata": {
        "colab": {
          "base_uri": "https://localhost:8080/",
          "height": 419
        },
        "id": "yioGiPooTLNZ",
        "outputId": "c274a817-fc8e-47fb-8360-8cd5d90b925d"
      },
      "source": [
        "training_text"
      ],
      "execution_count": null,
      "outputs": [
        {
          "output_type": "execute_result",
          "data": {
            "text/html": [
              "<div>\n",
              "<style scoped>\n",
              "    .dataframe tbody tr th:only-of-type {\n",
              "        vertical-align: middle;\n",
              "    }\n",
              "\n",
              "    .dataframe tbody tr th {\n",
              "        vertical-align: top;\n",
              "    }\n",
              "\n",
              "    .dataframe thead th {\n",
              "        text-align: right;\n",
              "    }\n",
              "</style>\n",
              "<table border=\"1\" class=\"dataframe\">\n",
              "  <thead>\n",
              "    <tr style=\"text-align: right;\">\n",
              "      <th></th>\n",
              "      <th>text</th>\n",
              "      <th>intent</th>\n",
              "    </tr>\n",
              "  </thead>\n",
              "  <tbody>\n",
              "    <tr>\n",
              "      <th>0</th>\n",
              "      <td>كم عدد مستشفيات العزل فى مصر وما هى اماكنها</td>\n",
              "      <td>business location</td>\n",
              "    </tr>\n",
              "    <tr>\n",
              "      <th>1</th>\n",
              "      <td>ومخاصمك</td>\n",
              "      <td>nothing identified</td>\n",
              "    </tr>\n",
              "    <tr>\n",
              "      <th>2</th>\n",
              "      <td>متي ينتهي كورونا؟</td>\n",
              "      <td>the evolution of the virus</td>\n",
              "    </tr>\n",
              "    <tr>\n",
              "      <th>3</th>\n",
              "      <td>انا اسف</td>\n",
              "      <td>nothing identified</td>\n",
              "    </tr>\n",
              "    <tr>\n",
              "      <th>4</th>\n",
              "      <td>كام عدد الوفيات النهارده</td>\n",
              "      <td>infected cases</td>\n",
              "    </tr>\n",
              "    <tr>\n",
              "      <th>...</th>\n",
              "      <td>...</td>\n",
              "      <td>...</td>\n",
              "    </tr>\n",
              "    <tr>\n",
              "      <th>786</th>\n",
              "      <td>اهلا</td>\n",
              "      <td>greeting</td>\n",
              "    </tr>\n",
              "    <tr>\n",
              "      <th>787</th>\n",
              "      <td>بلح</td>\n",
              "      <td>nothing identified</td>\n",
              "    </tr>\n",
              "    <tr>\n",
              "      <th>788</th>\n",
              "      <td>كم عدد الحالات</td>\n",
              "      <td>infected cases</td>\n",
              "    </tr>\n",
              "    <tr>\n",
              "      <th>789</th>\n",
              "      <td>متى ينتهى فيروس كورونا</td>\n",
              "      <td>the evolution of the virus</td>\n",
              "    </tr>\n",
              "    <tr>\n",
              "      <th>790</th>\n",
              "      <td>ممكن اعرف متى يتم الانتهاء من فيرس كرونا وهل ي...</td>\n",
              "      <td>warm weather</td>\n",
              "    </tr>\n",
              "  </tbody>\n",
              "</table>\n",
              "<p>791 rows × 2 columns</p>\n",
              "</div>"
            ],
            "text/plain": [
              "                                                  text                      intent\n",
              "0          كم عدد مستشفيات العزل فى مصر وما هى اماكنها           business location\n",
              "1                                              ومخاصمك          nothing identified\n",
              "2                                    متي ينتهي كورونا؟  the evolution of the virus\n",
              "3                                              انا اسف          nothing identified\n",
              "4                             كام عدد الوفيات النهارده              infected cases\n",
              "..                                                 ...                         ...\n",
              "786                                               اهلا                    greeting\n",
              "787                                                بلح          nothing identified\n",
              "788                                     كم عدد الحالات              infected cases\n",
              "789                             متى ينتهى فيروس كورونا  the evolution of the virus\n",
              "790  ممكن اعرف متى يتم الانتهاء من فيرس كرونا وهل ي...                warm weather\n",
              "\n",
              "[791 rows x 2 columns]"
            ]
          },
          "metadata": {
            "tags": []
          },
          "execution_count": 27
        }
      ]
    },
    {
      "cell_type": "code",
      "metadata": {
        "id": "07yx9s53R-vz"
      },
      "source": [
        "#tokenizer = AutoTokenizer.from_pretrained(\"UBC-NLP/MARBERT\")"
      ],
      "execution_count": null,
      "outputs": []
    },
    {
      "cell_type": "code",
      "metadata": {
        "id": "a8y14xkdUzTd"
      },
      "source": [
        "#model = AutoModelForSequenceClassification.from_pretrained(\"UBC-NLP/MARBERT\", num_labels=len(labels_text)).to(\"cuda\")"
      ],
      "execution_count": null,
      "outputs": []
    },
    {
      "cell_type": "code",
      "metadata": {
        "id": "v8525uvQeDjg"
      },
      "source": [
        "#load model and tokenizer\n",
        "model_path = \"/gdrive/MyDrive/kaggle/Machathon final round/final classifier\"\n",
        "model=AutoModelForSequenceClassification.from_pretrained(model_path, num_labels=len(labels_text)).to(\"cuda\")\n",
        "tokenizer=AutoTokenizer.from_pretrained(model_path)"
      ],
      "execution_count": null,
      "outputs": []
    },
    {
      "cell_type": "code",
      "metadata": {
        "id": "gqpN37TCWRj7"
      },
      "source": [
        "def get_prediction(text):\n",
        "    # prepare our text into tokenized sequence\n",
        "    inputs = tokenizer(text, padding=True, truncation=True, max_length=512, return_tensors=\"pt\").to(\"cuda\")\n",
        "    # perform inference to our model\n",
        "    outputs = model(**inputs)\n",
        "    # get output probabilities by doing softmax\n",
        "    probs = outputs[0].softmax(1)\n",
        "    # executing argmax function to get the candidate label\n",
        "    return probs.argmax()"
      ],
      "execution_count": null,
      "outputs": []
    },
    {
      "cell_type": "code",
      "metadata": {
        "id": "L8xYtJx7rZdC"
      },
      "source": [
        "#add model predections to a numpy array\n",
        "predictions=[]\n",
        "uniq=list(labels_text)\n",
        "for index, row in testing_text.iterrows():\n",
        "  predictions.append([index,uniq[get_prediction(row[\"text\"]).item()]])\n",
        "predictions=np.array(predictions)"
      ],
      "execution_count": null,
      "outputs": []
    },
    {
      "cell_type": "code",
      "metadata": {
        "id": "EJpuvIsxIAFj"
      },
      "source": [
        "pd.DataFrame(predictions, columns = ['index', 'intent']).to_csv(\"/gdrive/MyDrive/kaggle/Machathon final round/final classifier/pred.csv\", index=False)"
      ],
      "execution_count": null,
      "outputs": []
    },
    {
      "cell_type": "code",
      "metadata": {
        "colab": {
          "base_uri": "https://localhost:8080/",
          "height": 350
        },
        "id": "ehT_AaBAQXmI",
        "outputId": "51a03b8d-e0f2-4cb2-f298-058324ed1b63"
      },
      "source": [
        "#plot model predictions against different labels\n",
        "out=[]\n",
        "for i in predictions:\n",
        "  out.append(i[1])\n",
        "pd.Series(out).hist(bins = 10,figsize=(40,10))"
      ],
      "execution_count": null,
      "outputs": [
        {
          "output_type": "execute_result",
          "data": {
            "text/plain": [
              "<matplotlib.axes._subplots.AxesSubplot at 0x7fe94fbf4e50>"
            ]
          },
          "metadata": {
            "tags": []
          },
          "execution_count": 57
        },
        {
          "output_type": "display_data",
          "data": {
            "image/png": "[encoded data removed]",
            "text/plain": [
              "<Figure size 2880x720 with 1 Axes>"
            ]
          },
          "metadata": {
            "tags": [],
            "needs_background": "light"
          }
        }
      ]
    },
    {
      "cell_type": "code",
      "metadata": {
        "id": "obkJsQyIRQuS"
      },
      "source": [
        ""
      ],
      "execution_count": null,
      "outputs": []
    }
  ]
}