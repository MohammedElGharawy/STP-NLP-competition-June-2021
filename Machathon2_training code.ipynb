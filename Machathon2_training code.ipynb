{
  "nbformat": 4,
  "nbformat_minor": 0,
  "metadata": {
    "accelerator": "GPU",
    "colab": {
      "name": "Marbert_machathon2_final.ipynb",
      "provenance": [],
      "collapsed_sections": []
    },
    "kernelspec": {
      "display_name": "Python 3",
      "name": "python3"
    },
    "language_info": {
      "name": "python"
    }
  },
  "cells": [
    {
      "cell_type": "code",
      "metadata": {
        "colab": {
          "base_uri": "https://localhost:8080/"
        },
        "id": "yJMHkiV7SG9n",
        "outputId": "65dfbc4a-4280-45fc-f21a-bdddfb0e88b5"
      },
      "source": [
        "!pip install transformers numpy torch sklearn"
      ],
      "execution_count": null,
      "outputs": [
        {
          "output_type": "stream",
          "text": [
            "Collecting transformers\n",
            "\u001b[?25l  Downloading https://files.pythonhosted.org/packages/d5/43/cfe4ee779bbd6a678ac6a97c5a5cdeb03c35f9eaebbb9720b036680f9a2d/transformers-4.6.1-py3-none-any.whl (2.2MB)\n",
            "\u001b[K     |████████████████████████████████| 2.3MB 7.2MB/s \n",
            "\u001b[?25hRequirement already satisfied: numpy in /usr/local/lib/python3.7/dist-packages (1.19.5)\n",
            "Requirement already satisfied: torch in /usr/local/lib/python3.7/dist-packages (1.8.1+cu101)\n",
            "Requirement already satisfied: sklearn in /usr/local/lib/python3.7/dist-packages (0.0)\n",
            "Requirement already satisfied: requests in /usr/local/lib/python3.7/dist-packages (from transformers) (2.23.0)\n",
            "Collecting tokenizers<0.11,>=0.10.1\n",
            "\u001b[?25l  Downloading https://files.pythonhosted.org/packages/d4/e2/df3543e8ffdab68f5acc73f613de9c2b155ac47f162e725dcac87c521c11/tokenizers-0.10.3-cp37-cp37m-manylinux_2_5_x86_64.manylinux1_x86_64.manylinux_2_12_x86_64.manylinux2010_x86_64.whl (3.3MB)\n",
            "\u001b[K     |████████████████████████████████| 3.3MB 44.6MB/s \n",
            "\u001b[?25hRequirement already satisfied: filelock in /usr/local/lib/python3.7/dist-packages (from transformers) (3.0.12)\n",
            "Requirement already satisfied: packaging in /usr/local/lib/python3.7/dist-packages (from transformers) (20.9)\n",
            "Requirement already satisfied: regex!=2019.12.17 in /usr/local/lib/python3.7/dist-packages (from transformers) (2019.12.20)\n",
            "Collecting huggingface-hub==0.0.8\n",
            "  Downloading https://files.pythonhosted.org/packages/a1/88/7b1e45720ecf59c6c6737ff332f41c955963090a18e72acbcbeac6b25e86/huggingface_hub-0.0.8-py3-none-any.whl\n",
            "Collecting sacremoses\n",
            "\u001b[?25l  Downloading https://files.pythonhosted.org/packages/75/ee/67241dc87f266093c533a2d4d3d69438e57d7a90abb216fa076e7d475d4a/sacremoses-0.0.45-py3-none-any.whl (895kB)\n",
            "\u001b[K     |████████████████████████████████| 901kB 43.2MB/s \n",
            "\u001b[?25hRequirement already satisfied: tqdm>=4.27 in /usr/local/lib/python3.7/dist-packages (from transformers) (4.41.1)\n",
            "Requirement already satisfied: importlib-metadata; python_version < \"3.8\" in /usr/local/lib/python3.7/dist-packages (from transformers) (4.0.1)\n",
            "Requirement already satisfied: typing-extensions in /usr/local/lib/python3.7/dist-packages (from torch) (3.7.4.3)\n",
            "Requirement already satisfied: scikit-learn in /usr/local/lib/python3.7/dist-packages (from sklearn) (0.22.2.post1)\n",
            "Requirement already satisfied: chardet<4,>=3.0.2 in /usr/local/lib/python3.7/dist-packages (from requests->transformers) (3.0.4)\n",
            "Requirement already satisfied: certifi>=2017.4.17 in /usr/local/lib/python3.7/dist-packages (from requests->transformers) (2020.12.5)\n",
            "Requirement already satisfied: urllib3!=1.25.0,!=1.25.1,<1.26,>=1.21.1 in /usr/local/lib/python3.7/dist-packages (from requests->transformers) (1.24.3)\n",
            "Requirement already satisfied: idna<3,>=2.5 in /usr/local/lib/python3.7/dist-packages (from requests->transformers) (2.10)\n",
            "Requirement already satisfied: pyparsing>=2.0.2 in /usr/local/lib/python3.7/dist-packages (from packaging->transformers) (2.4.7)\n",
            "Requirement already satisfied: six in /usr/local/lib/python3.7/dist-packages (from sacremoses->transformers) (1.15.0)\n",
            "Requirement already satisfied: joblib in /usr/local/lib/python3.7/dist-packages (from sacremoses->transformers) (1.0.1)\n",
            "Requirement already satisfied: click in /usr/local/lib/python3.7/dist-packages (from sacremoses->transformers) (7.1.2)\n",
            "Requirement already satisfied: zipp>=0.5 in /usr/local/lib/python3.7/dist-packages (from importlib-metadata; python_version < \"3.8\"->transformers) (3.4.1)\n",
            "Requirement already satisfied: scipy>=0.17.0 in /usr/local/lib/python3.7/dist-packages (from scikit-learn->sklearn) (1.4.1)\n",
            "Installing collected packages: tokenizers, huggingface-hub, sacremoses, transformers\n",
            "Successfully installed huggingface-hub-0.0.8 sacremoses-0.0.45 tokenizers-0.10.3 transformers-4.6.1\n"
          ],
          "name": "stdout"
        }
      ]
    },
    {
      "cell_type": "code",
      "metadata": {
        "id": "qxT0SvKCRgZ-"
      },
      "source": [
        "#install required packages\n",
        "import pandas as pd\n",
        "import os\n",
        "import torch\n",
        "from transformers.file_utils import is_tf_available, is_torch_available, is_torch_tpu_available\n",
        "from transformers import AutoTokenizer, AutoModel, AutoModelForSequenceClassification\n",
        "from transformers import Trainer, TrainingArguments\n",
        "import numpy as np\n",
        "import random\n",
        "from sklearn.datasets import fetch_20newsgroups\n",
        "from sklearn.model_selection import train_test_split"
      ],
      "execution_count": null,
      "outputs": []
    },
    {
      "cell_type": "code",
      "metadata": {
        "colab": {
          "base_uri": "https://localhost:8080/"
        },
        "id": "OwBC8RkJRaVI",
        "outputId": "99318e86-001e-40d3-bcde-e6547f5a3648"
      },
      "source": [
        "#connect google drive\n",
        "from google.colab import drive\n",
        "drive.mount('/gdrive')"
      ],
      "execution_count": null,
      "outputs": [
        {
          "output_type": "stream",
          "text": [
            "Drive already mounted at /gdrive; to attempt to forcibly remount, call drive.mount(\"/gdrive\", force_remount=True).\n"
          ],
          "name": "stdout"
        }
      ]
    },
    {
      "cell_type": "code",
      "metadata": {
        "id": "xWeWmaVbRlCW"
      },
      "source": [
        "#load training and test data with labels\n",
        "training_text = pd.read_csv('/gdrive/MyDrive/kaggle/Machathon final round/train_ara.csv')\n",
        "testing_text = pd.read_csv('/gdrive/MyDrive/kaggle/Machathon final round/test.csv')\n",
        "labels_text=training_text[\"intent\"].unique()"
      ],
      "execution_count": null,
      "outputs": []
    },
    {
      "cell_type": "code",
      "metadata": {
        "colab": {
          "base_uri": "https://localhost:8080/"
        },
        "id": "biWbOgBp1uvj",
        "outputId": "e1a70577-3395-4dfd-b558-23faa361a843"
      },
      "source": [
        "print(labels_text)\n",
        "print(labels_text.shape[0])"
      ],
      "execution_count": null,
      "outputs": [
        {
          "output_type": "stream",
          "text": [
            "['business location' 'nothing identified' 'the evolution of the virus'\n",
            " 'infected cases' 'crush' 'treatment' 'most vulnerable' 'transfer methods'\n",
            " 'sterilization and disinfection' 'greeting' 'precautions' 'symptoms'\n",
            " 'warm weather' 'reviews' 'assessment' 'about corona virus'\n",
            " 'panic among the people' 'muzzle/mask' 'kindness' 'emergency'\n",
            " 'laboratory' 'prayers' 'smoking' 'no' 'how are you' 'comparison'\n",
            " 'about bot' 'food and drinks' 'education and work' 'spoken languages'\n",
            " 'back to work' 'home quarantine' 'gloves' 'curfew' 'breathing test'\n",
            " 'about business' 'end conversation' 'yes' 'infection by animals'\n",
            " 'disease detection']\n",
            "40\n"
          ],
          "name": "stdout"
        }
      ]
    },
    {
      "cell_type": "code",
      "metadata": {
        "id": "U4g4GH2S6xgu"
      },
      "source": [
        "labels_text=list(range(0,40))"
      ],
      "execution_count": null,
      "outputs": []
    },
    {
      "cell_type": "code",
      "metadata": {
        "colab": {
          "base_uri": "https://localhost:8080/",
          "height": 419
        },
        "id": "yioGiPooTLNZ",
        "outputId": "45122d41-161a-40a6-f1e8-3fb7c96ac3d4"
      },
      "source": [
        "training_text"
      ],
      "execution_count": null,
      "outputs": [
        {
          "output_type": "execute_result",
          "data": {
            "text/html": [
              "<div>\n",
              "<style scoped>\n",
              "    .dataframe tbody tr th:only-of-type {\n",
              "        vertical-align: middle;\n",
              "    }\n",
              "\n",
              "    .dataframe tbody tr th {\n",
              "        vertical-align: top;\n",
              "    }\n",
              "\n",
              "    .dataframe thead th {\n",
              "        text-align: right;\n",
              "    }\n",
              "</style>\n",
              "<table border=\"1\" class=\"dataframe\">\n",
              "  <thead>\n",
              "    <tr style=\"text-align: right;\">\n",
              "      <th></th>\n",
              "      <th>text</th>\n",
              "      <th>intent</th>\n",
              "    </tr>\n",
              "  </thead>\n",
              "  <tbody>\n",
              "    <tr>\n",
              "      <th>0</th>\n",
              "      <td>كم عدد مستشفيات العزل فى مصر وما هى اماكنها</td>\n",
              "      <td>business location</td>\n",
              "    </tr>\n",
              "    <tr>\n",
              "      <th>1</th>\n",
              "      <td>ومخاصمك</td>\n",
              "      <td>nothing identified</td>\n",
              "    </tr>\n",
              "    <tr>\n",
              "      <th>2</th>\n",
              "      <td>متي ينتهي كورونا؟</td>\n",
              "      <td>the evolution of the virus</td>\n",
              "    </tr>\n",
              "    <tr>\n",
              "      <th>3</th>\n",
              "      <td>انا اسف</td>\n",
              "      <td>nothing identified</td>\n",
              "    </tr>\n",
              "    <tr>\n",
              "      <th>4</th>\n",
              "      <td>كام عدد الوفيات النهارده</td>\n",
              "      <td>infected cases</td>\n",
              "    </tr>\n",
              "    <tr>\n",
              "      <th>...</th>\n",
              "      <td>...</td>\n",
              "      <td>...</td>\n",
              "    </tr>\n",
              "    <tr>\n",
              "      <th>786</th>\n",
              "      <td>اهلا</td>\n",
              "      <td>greeting</td>\n",
              "    </tr>\n",
              "    <tr>\n",
              "      <th>787</th>\n",
              "      <td>بلح</td>\n",
              "      <td>nothing identified</td>\n",
              "    </tr>\n",
              "    <tr>\n",
              "      <th>788</th>\n",
              "      <td>كم عدد الحالات</td>\n",
              "      <td>infected cases</td>\n",
              "    </tr>\n",
              "    <tr>\n",
              "      <th>789</th>\n",
              "      <td>متى ينتهى فيروس كورونا</td>\n",
              "      <td>the evolution of the virus</td>\n",
              "    </tr>\n",
              "    <tr>\n",
              "      <th>790</th>\n",
              "      <td>ممكن اعرف متى يتم الانتهاء من فيرس كرونا وهل ي...</td>\n",
              "      <td>warm weather</td>\n",
              "    </tr>\n",
              "  </tbody>\n",
              "</table>\n",
              "<p>791 rows × 2 columns</p>\n",
              "</div>"
            ],
            "text/plain": [
              "                                                  text                      intent\n",
              "0          كم عدد مستشفيات العزل فى مصر وما هى اماكنها           business location\n",
              "1                                              ومخاصمك          nothing identified\n",
              "2                                    متي ينتهي كورونا؟  the evolution of the virus\n",
              "3                                              انا اسف          nothing identified\n",
              "4                             كام عدد الوفيات النهارده              infected cases\n",
              "..                                                 ...                         ...\n",
              "786                                               اهلا                    greeting\n",
              "787                                                بلح          nothing identified\n",
              "788                                     كم عدد الحالات              infected cases\n",
              "789                             متى ينتهى فيروس كورونا  the evolution of the virus\n",
              "790  ممكن اعرف متى يتم الانتهاء من فيرس كرونا وهل ي...                warm weather\n",
              "\n",
              "[791 rows x 2 columns]"
            ]
          },
          "metadata": {
            "tags": []
          },
          "execution_count": 161
        }
      ]
    },
    {
      "cell_type": "code",
      "metadata": {
        "id": "07yx9s53R-vz"
      },
      "source": [
        "#load tokenizer\n",
        "tokenizer = AutoTokenizer.from_pretrained(\"UBC-NLP/MARBERT\")"
      ],
      "execution_count": null,
      "outputs": []
    },
    {
      "cell_type": "code",
      "metadata": {
        "colab": {
          "base_uri": "https://localhost:8080/"
        },
        "id": "a8y14xkdUzTd",
        "outputId": "8c07705f-c8d1-4181-b0b5-3a83a2f2724d"
      },
      "source": [
        "#load model\n",
        "model = AutoModelForSequenceClassification.from_pretrained(\"UBC-NLP/MARBERT\", num_labels=len(labels_text)).to(\"cuda\")"
      ],
      "execution_count": null,
      "outputs": [
        {
          "output_type": "stream",
          "text": [
            "Some weights of the model checkpoint at UBC-NLP/MARBERT were not used when initializing BertForSequenceClassification: ['cls.predictions.decoder.weight', 'cls.predictions.transform.dense.weight', 'cls.seq_relationship.weight', 'cls.predictions.transform.LayerNorm.weight', 'cls.seq_relationship.bias', 'cls.predictions.transform.dense.bias', 'cls.predictions.transform.LayerNorm.bias', 'cls.predictions.bias']\n",
            "- This IS expected if you are initializing BertForSequenceClassification from the checkpoint of a model trained on another task or with another architecture (e.g. initializing a BertForSequenceClassification model from a BertForPreTraining model).\n",
            "- This IS NOT expected if you are initializing BertForSequenceClassification from the checkpoint of a model that you expect to be exactly identical (initializing a BertForSequenceClassification model from a BertForSequenceClassification model).\n",
            "Some weights of BertForSequenceClassification were not initialized from the model checkpoint at UBC-NLP/MARBERT and are newly initialized: ['classifier.bias', 'classifier.weight']\n",
            "You should probably TRAIN this model on a down-stream task to be able to use it for predictions and inference.\n"
          ],
          "name": "stderr"
        }
      ]
    },
    {
      "cell_type": "code",
      "metadata": {
        "id": "8G-jRI76S3LV"
      },
      "source": [
        "#split training dataset into training and validation data\n",
        "def read_dataset(training_text, test_size=0.2):\n",
        "  \n",
        "  documents = training_text['text'].tolist()\n",
        "  labels = training_text['intent'].tolist()\n",
        "  return train_test_split(documents, labels, test_size=test_size)\n",
        "  \n",
        "# call the function\n",
        "(train_texts, valid_texts, training_labels, valid_labels) = read_dataset(training_text)"
      ],
      "execution_count": null,
      "outputs": []
    },
    {
      "cell_type": "code",
      "metadata": {
        "id": "7nalP0KUBD_E"
      },
      "source": [
        "#extract labels from training and validation data\n",
        "uniq=list(training_text[\"intent\"].unique())\n",
        "training_labels=[uniq.index(i) for i in training_labels]\n",
        "valid_labels=[uniq.index(i) for i in valid_labels]"
      ],
      "execution_count": null,
      "outputs": []
    },
    {
      "cell_type": "code",
      "metadata": {
        "id": "5Igu1X3XStlS"
      },
      "source": [
        "#tokenize training and validation data\n",
        "max_length = 512\n",
        "train_encodings = tokenizer(train_texts, truncation=True, padding=True, max_length=max_length)\n",
        "valid_encodings = tokenizer(valid_texts, truncation=True, padding=True, max_length=max_length)"
      ],
      "execution_count": null,
      "outputs": []
    },
    {
      "cell_type": "code",
      "metadata": {
        "id": "cAQnwePqTjY_"
      },
      "source": [
        "#create a torch dataset from encodings and labels\n",
        "class Dataset(torch.utils.data.Dataset):\n",
        "    def __init__(self, encodings, labels):\n",
        "        self.encodings = encodings\n",
        "        self.labels = labels\n",
        "\n",
        "    def __getitem__(self, idx):\n",
        "        item = {k: torch.tensor(v[idx]) for k, v in self.encodings.items()}\n",
        "        item[\"labels\"] = torch.tensor([self.labels[idx]])\n",
        "        return item\n",
        "\n",
        "    def __len__(self):\n",
        "        return len(self.labels)\n",
        "\n",
        "# convert our tokenized data into a torch Dataset\n",
        "train_dataset = Dataset(train_encodings, training_labels)\n",
        "valid_dataset = Dataset(valid_encodings, valid_labels)"
      ],
      "execution_count": null,
      "outputs": []
    },
    {
      "cell_type": "code",
      "metadata": {
        "id": "3RZckyBBVGNp"
      },
      "source": [
        "#define accuracy metrics\n",
        "from sklearn.metrics import accuracy_score\n",
        "\n",
        "def compute_metrics(pred):\n",
        "  labels = pred.label_ids\n",
        "  preds = pred.predictions.argmax(-1)\n",
        "  # calculate accuracy using sklearn's function\n",
        "  acc = accuracy_score(labels, preds)\n",
        "  return {\n",
        "      'accuracy': acc,\n",
        "  }"
      ],
      "execution_count": null,
      "outputs": []
    },
    {
      "cell_type": "code",
      "metadata": {
        "id": "Qds6lzouVOnB"
      },
      "source": [
        "#set training args\n",
        "training_args = TrainingArguments(\n",
        "    output_dir='/gdrive/MyDrive/kaggle/Machathon final round/results',          # output directory\n",
        "    num_train_epochs=40,              # total number of training epochs\n",
        "    per_device_train_batch_size=16,  # batch size per device during training\n",
        "    per_device_eval_batch_size=20,   # batch size for evaluation\n",
        "    warmup_steps=1000,                # number of warmup steps for learning rate scheduler\n",
        "    weight_decay=0.015,               # strength of weight decay\n",
        "    logging_dir='/gdrive/MyDrive/kaggle/Machathon final round/logs',            # directory for storing logs\n",
        "    load_best_model_at_end=True,     # load the best model when finished training (default metric is loss)\n",
        "    # but you can specify `metric_for_best_model` argument to change to accuracy or other metric\n",
        "    logging_steps=10000,               # log & save weights each logging_steps\n",
        "    evaluation_strategy=\"steps\",     # evaluate each `logging_steps`\n",
        ")"
      ],
      "execution_count": null,
      "outputs": []
    },
    {
      "cell_type": "code",
      "metadata": {
        "colab": {
          "base_uri": "https://localhost:8080/"
        },
        "id": "luxfTwc8mhY-",
        "outputId": "23d5fede-3956-47a0-c09e-6d92d72b8491"
      },
      "source": [
        "#calculate distribution of class weights\n",
        "from sklearn.utils.class_weight import compute_class_weight\n",
        "uniq=list(training_text[\"intent\"].unique())\n",
        "labels=[]\n",
        "labels_2=[]\n",
        "for index,row in training_text.iterrows():\n",
        "  labels.append(row[\"intent\"])\n",
        "for i in labels:\n",
        "  labels_2.append(uniq.index(i)) \n",
        "#compute the class weights\n",
        "class_wts = compute_class_weight('balanced', np.array(labels_text), labels_2)\n",
        "\n",
        "print(class_wts)\n",
        "print(labels)"
      ],
      "execution_count": null,
      "outputs": [
        {
          "output_type": "stream",
          "text": [
            "[1.79772727 0.353125   0.94166667 0.0670339  6.59166667 0.59924242\n",
            " 4.94375    0.89886364 1.04078947 0.54930556 0.565      0.34094828\n",
            " 3.29583333 0.47083333 0.68189655 0.94166667 3.955      3.29583333\n",
            " 3.29583333 6.59166667 3.955      9.8875     9.8875     9.8875\n",
            " 1.4125     2.825      3.29583333 3.955      9.8875     3.955\n",
            " 9.8875     2.471875   9.8875     6.59166667 9.8875     4.94375\n",
            " 9.8875     6.59166667 9.8875     9.8875    ]\n",
            "['business location', 'nothing identified', 'the evolution of the virus', 'nothing identified', 'infected cases', 'crush', 'treatment', 'infected cases', 'most vulnerable', 'infected cases', 'transfer methods', 'infected cases', 'sterilization and disinfection', 'sterilization and disinfection', 'infected cases', 'infected cases', 'greeting', 'greeting', 'precautions', 'infected cases', 'infected cases', 'infected cases', 'infected cases', 'symptoms', 'infected cases', 'nothing identified', 'infected cases', 'symptoms', 'warm weather', 'transfer methods', 'infected cases', 'reviews', 'symptoms', 'infected cases', 'symptoms', 'assessment', 'greeting', 'reviews', 'infected cases', 'about corona virus', 'infected cases', 'infected cases', 'infected cases', 'panic among the people', 'treatment', 'panic among the people', 'muzzle/mask', 'transfer methods', 'treatment', 'treatment', 'infected cases', 'business location', 'infected cases', 'infected cases', 'nothing identified', 'infected cases', 'greeting', 'infected cases', 'symptoms', 'precautions', 'nothing identified', 'infected cases', 'the evolution of the virus', 'treatment', 'precautions', 'greeting', 'about corona virus', 'the evolution of the virus', 'symptoms', 'assessment', 'infected cases', 'transfer methods', 'precautions', 'reviews', 'greeting', 'sterilization and disinfection', 'infected cases', 'sterilization and disinfection', 'infected cases', 'precautions', 'kindness', 'nothing identified', 'precautions', 'emergency', 'about corona virus', 'infected cases', 'infected cases', 'treatment', 'laboratory', 'infected cases', 'transfer methods', 'symptoms', 'prayers', 'smoking', 'symptoms', 'infected cases', 'nothing identified', 'infected cases', 'the evolution of the virus', 'treatment', 'infected cases', 'reviews', 'infected cases', 'infected cases', 'infected cases', 'greeting', 'infected cases', 'infected cases', 'infected cases', 'infected cases', 'laboratory', 'infected cases', 'nothing identified', 'symptoms', 'reviews', 'infected cases', 'precautions', 'infected cases', 'infected cases', 'infected cases', 'infected cases', 'infected cases', 'no', 'symptoms', 'infected cases', 'precautions', 'infected cases', 'infected cases', 'nothing identified', 'no', 'assessment', 'infected cases', 'infected cases', 'symptoms', 'infected cases', 'how are you', 'infected cases', 'infected cases', 'about corona virus', 'infected cases', 'comparison', 'reviews', 'nothing identified', 'business location', 'business location', 'nothing identified', 'precautions', 'infected cases', 'infected cases', 'infected cases', 'infected cases', 'infected cases', 'reviews', 'nothing identified', 'transfer methods', 'comparison', 'about bot', 'infected cases', 'infected cases', 'infected cases', 'treatment', 'infected cases', 'infected cases', 'the evolution of the virus', 'greeting', 'symptoms', 'about corona virus', 'assessment', 'infected cases', 'infected cases', 'infected cases', 'infected cases', 'how are you', 'food and drinks', 'infected cases', 'most vulnerable', 'infected cases', 'infected cases', 'treatment', 'infected cases', 'assessment', 'infected cases', 'nothing identified', 'symptoms', 'education and work', 'kindness', 'infected cases', 'warm weather', 'about bot', 'assessment', 'education and work', 'precautions', 'infected cases', 'spoken languages', 'assessment', 'infected cases', 'infected cases', 'symptoms', 'emergency', 'infected cases', 'assessment', 'symptoms', 'precautions', 'infected cases', 'infected cases', 'infected cases', 'about corona virus', 'infected cases', 'precautions', 'assessment', 'assessment', 'precautions', 'sterilization and disinfection', 'warm weather', 'precautions', 'symptoms', 'nothing identified', 'assessment', 'infected cases', 'greeting', 'nothing identified', 'nothing identified', 'treatment', 'infected cases', 'infected cases', 'transfer methods', 'infected cases', 'infected cases', 'treatment', 'nothing identified', 'infected cases', 'nothing identified', 'infected cases', 'infected cases', 'infected cases', 'infected cases', 'greeting', 'business location', 'infected cases', 'greeting', 'reviews', 'infected cases', 'infected cases', 'infected cases', 'business location', 'sterilization and disinfection', 'infected cases', 'infected cases', 'greeting', 'panic among the people', 'treatment', 'infected cases', 'kindness', 'how are you', 'infected cases', 'treatment', 'the evolution of the virus', 'kindness', 'precautions', 'infected cases', 'laboratory', 'about corona virus', 'food and drinks', 'the evolution of the virus', 'infected cases', 'symptoms', 'laboratory', 'precautions', 'symptoms', 'transfer methods', 'infected cases', 'treatment', 'infected cases', 'symptoms', 'precautions', 'greeting', 'infected cases', 'reviews', 'infected cases', 'business location', 'nothing identified', 'infected cases', 'assessment', 'infected cases', 'infected cases', 'nothing identified', 'back to work', 'infected cases', 'nothing identified', 'infected cases', 'spoken languages', 'warm weather', 'sterilization and disinfection', 'infected cases', 'most vulnerable', 'infected cases', 'nothing identified', 'nothing identified', 'home quarantine', 'about bot', 'sterilization and disinfection', 'business location', 'reviews', 'infected cases', 'infected cases', 'infected cases', 'infected cases', 'treatment', 'infected cases', 'infected cases', 'symptoms', 'infected cases', 'infected cases', 'treatment', 'infected cases', 'reviews', 'infected cases', 'infected cases', 'infected cases', 'reviews', 'infected cases', 'infected cases', 'nothing identified', 'infected cases', 'nothing identified', 'reviews', 'reviews', 'nothing identified', 'symptoms', 'infected cases', 'infected cases', 'infected cases', 'nothing identified', 'infected cases', 'infected cases', 'infected cases', 'infected cases', 'infected cases', 'infected cases', 'symptoms', 'nothing identified', 'infected cases', 'gloves', 'infected cases', 'reviews', 'infected cases', 'infected cases', 'the evolution of the virus', 'infected cases', 'spoken languages', 'nothing identified', 'reviews', 'infected cases', 'transfer methods', 'infected cases', 'curfew', 'infected cases', 'infected cases', 'about corona virus', 'infected cases', 'prayers', 'symptoms', 'about corona virus', 'transfer methods', 'the evolution of the virus', 'treatment', 'transfer methods', 'infected cases', 'infected cases', 'the evolution of the virus', 'nothing identified', 'comparison', 'infected cases', 'precautions', 'infected cases', 'symptoms', 'comparison', 'reviews', 'infected cases', 'infected cases', 'infected cases', 'assessment', 'nothing identified', 'infected cases', 'reviews', 'assessment', 'food and drinks', 'infected cases', 'about corona virus', 'infected cases', 'food and drinks', 'treatment', 'greeting', 'precautions', 'greeting', 'transfer methods', 'the evolution of the virus', 'reviews', 'muzzle/mask', 'the evolution of the virus', 'back to work', 'infected cases', 'greeting', 'reviews', 'reviews', 'infected cases', 'business location', 'nothing identified', 'nothing identified', 'infected cases', 'infected cases', 'reviews', 'infected cases', 'treatment', 'precautions', 'assessment', 'infected cases', 'symptoms', 'infected cases', 'symptoms', 'infected cases', 'nothing identified', 'how are you', 'greeting', 'precautions', 'symptoms', 'infected cases', 'infected cases', 'infected cases', 'transfer methods', 'infected cases', 'precautions', 'infected cases', 'symptoms', 'sterilization and disinfection', 'infected cases', 'how are you', 'nothing identified', 'infected cases', 'reviews', 'symptoms', 'infected cases', 'infected cases', 'infected cases', 'symptoms', 'infected cases', 'symptoms', 'breathing test', 'assessment', 'greeting', 'infected cases', 'transfer methods', 'infected cases', 'infected cases', 'infected cases', 'infected cases', 'symptoms', 'nothing identified', 'infected cases', 'nothing identified', 'treatment', 'infected cases', 'symptoms', 'infected cases', 'precautions', 'about corona virus', 'reviews', 'infected cases', 'sterilization and disinfection', 'precautions', 'comparison', 'sterilization and disinfection', 'how are you', 'panic among the people', 'about corona virus', 'assessment', 'the evolution of the virus', 'assessment', 'treatment', 'transfer methods', 'infected cases', 'nothing identified', 'home quarantine', 'infected cases', 'reviews', 'infected cases', 'treatment', 'food and drinks', 'greeting', 'treatment', 'infected cases', 'how are you', 'about bot', 'infected cases', 'infected cases', 'infected cases', 'infected cases', 'infected cases', 'infected cases', 'infected cases', 'infected cases', 'assessment', 'about business', 'about corona virus', 'nothing identified', 'greeting', 'infected cases', 'infected cases', 'infected cases', 'greeting', 'treatment', 'nothing identified', 'assessment', 'how are you', 'infected cases', 'infected cases', 'nothing identified', 'panic among the people', 'assessment', 'infected cases', 'infected cases', 'symptoms', 'symptoms', 'greeting', 'most vulnerable', 'symptoms', 'nothing identified', 'nothing identified', 'comparison', 'reviews', 'infected cases', 'home quarantine', 'crush', 'how are you', 'infected cases', 'about business', 'reviews', 'reviews', 'transfer methods', 'symptoms', 'infected cases', 'nothing identified', 'greeting', 'infected cases', 'transfer methods', 'curfew', 'end conversation', 'yes', 'precautions', 'sterilization and disinfection', 'transfer methods', 'infected cases', 'assessment', 'infected cases', 'infected cases', 'symptoms', 'about business', 'transfer methods', 'the evolution of the virus', 'infected cases', 'reviews', 'sterilization and disinfection', 'curfew', 'infected cases', 'how are you', 'infection by animals', 'assessment', 'infected cases', 'infected cases', 'greeting', 'yes', 'nothing identified', 'infected cases', 'infected cases', 'spoken languages', 'about corona virus', 'about corona virus', 'infected cases', 'home quarantine', 'infected cases', 'muzzle/mask', 'infected cases', 'infected cases', 'reviews', 'assessment', 'treatment', 'infected cases', 'infected cases', 'symptoms', 'infected cases', 'precautions', 'infected cases', 'reviews', 'muzzle/mask', 'infected cases', 'home quarantine', 'infected cases', 'crush', 'assessment', 'laboratory', 'how are you', 'breathing test', 'infected cases', 'infected cases', 'how are you', 'nothing identified', 'infected cases', 'about corona virus', 'sterilization and disinfection', 'the evolution of the virus', 'nothing identified', 'infected cases', 'infected cases', 'muzzle/mask', 'treatment', 'infected cases', 'business location', 'reviews', 'nothing identified', 'infected cases', 'the evolution of the virus', 'greeting', 'infected cases', 'infected cases', 'infected cases', 'treatment', 'infected cases', 'infected cases', 'infected cases', 'precautions', 'warm weather', 'infected cases', 'symptoms', 'reviews', 'symptoms', 'infected cases', 'treatment', 'infected cases', 'infected cases', 'transfer methods', 'kindness', 'about corona virus', 'assessment', 'infected cases', 'reviews', 'greeting', 'greeting', 'greeting', 'symptoms', 'infected cases', 'kindness', 'symptoms', 'symptoms', 'infected cases', 'the evolution of the virus', 'home quarantine', 'infected cases', 'infected cases', 'infected cases', 'infected cases', 'infected cases', 'the evolution of the virus', 'greeting', 'symptoms', 'transfer methods', 'about corona virus', 'symptoms', 'business location', 'infected cases', 'infected cases', 'spoken languages', 'treatment', 'symptoms', 'greeting', 'infected cases', 'assessment', 'symptoms', 'treatment', 'sterilization and disinfection', 'symptoms', 'symptoms', 'infected cases', 'infected cases', 'how are you', 'greeting', 'sterilization and disinfection', 'nothing identified', 'nothing identified', 'reviews', 'infected cases', 'infected cases', 'symptoms', 'infected cases', 'end conversation', 'infected cases', 'treatment', 'how are you', 'infected cases', 'infected cases', 'muzzle/mask', 'infected cases', 'symptoms', 'smoking', 'about corona virus', 'nothing identified', 'infected cases', 'precautions', 'infected cases', 'infected cases', 'precautions', 'sterilization and disinfection', 'infected cases', 'assessment', 'gloves', 'the evolution of the virus', 'nothing identified', 'yes', 'home quarantine', 'symptoms', 'home quarantine', 'precautions', 'about corona virus', 'infected cases', 'sterilization and disinfection', 'symptoms', 'nothing identified', 'reviews', 'infected cases', 'transfer methods', 'infected cases', 'disease detection', 'assessment', 'reviews', 'greeting', 'precautions', 'infected cases', 'comparison', 'infected cases', 'about bot', 'infected cases', 'the evolution of the virus', 'infected cases', 'infected cases', 'infected cases', 'infected cases', 'precautions', 'treatment', 'infected cases', 'nothing identified', 'precautions', 'reviews', 'greeting', 'infection by animals', 'infected cases', 'infected cases', 'infected cases', 'infected cases', 'reviews', 'emergency', 'reviews', 'infected cases', 'treatment', 'infected cases', 'reviews', 'infected cases', 'infected cases', 'reviews', 'sterilization and disinfection', 'infected cases', 'about corona virus', 'infected cases', 'symptoms', 'infected cases', 'about business', 'symptoms', 'symptoms', 'infected cases', 'nothing identified', 'greeting', 'precautions', 'infected cases', 'symptoms', 'disease detection', 'about bot', 'precautions', 'greeting', 'greeting', 'nothing identified', 'infected cases', 'the evolution of the virus', 'warm weather']\n"
          ],
          "name": "stdout"
        }
      ]
    },
    {
      "cell_type": "code",
      "metadata": {
        "colab": {
          "base_uri": "https://localhost:8080/",
          "height": 282
        },
        "id": "BxFWZlvsoo9J",
        "outputId": "22d1fdc9-9a74-4174-e68d-f86c07453189"
      },
      "source": [
        "#plot the distribution of class weights\n",
        "pd.Series(labels_2).hist(bins = 50)"
      ],
      "execution_count": null,
      "outputs": [
        {
          "output_type": "execute_result",
          "data": {
            "text/plain": [
              "<matplotlib.axes._subplots.AxesSubplot at 0x7f0670656090>"
            ]
          },
          "metadata": {
            "tags": []
          },
          "execution_count": 185
        },
        {
          "output_type": "display_data",
          "data": {
            "image/png": "[encoded data removed]",
            "text/plain": [
              "<Figure size 432x288 with 1 Axes>"
            ]
          },
          "metadata": {
            "tags": [],
            "needs_background": "light"
          }
        }
      ]
    },
    {
      "cell_type": "code",
      "metadata": {
        "id": "7JCr6WRIVeIn"
      },
      "source": [
        "#Intialize the trainer\n",
        "trainer = Trainer(\n",
        "    model=model,                         # the instantiated Transformers model to be trained\n",
        "    args=training_args,                  # training arguments, defined above\n",
        "    train_dataset=train_dataset,         # training dataset\n",
        "    eval_dataset=valid_dataset,          # evaluation dataset\n",
        "    compute_metrics=compute_metrics,     # the callback that computes metrics of interest\n",
        ")"
      ],
      "execution_count": null,
      "outputs": []
    },
    {
      "cell_type": "code",
      "metadata": {
        "colab": {
          "base_uri": "https://localhost:8080/",
          "height": 112
        },
        "id": "9QYq4p2rVitv",
        "outputId": "cf1663ff-75ee-44a3-e062-93b9952f2d7f"
      },
      "source": [
        "#training\n",
        "trainer.train()"
      ],
      "execution_count": null,
      "outputs": [
        {
          "output_type": "display_data",
          "data": {
            "text/html": [
              "\n",
              "    <div>\n",
              "      \n",
              "      <progress value='1600' max='1600' style='width:300px; height:20px; vertical-align: middle;'></progress>\n",
              "      [1600/1600 13:30, Epoch 40/40]\n",
              "    </div>\n",
              "    <table border=\"1\" class=\"dataframe\">\n",
              "  <thead>\n",
              "    <tr style=\"text-align: left;\">\n",
              "      <th>Step</th>\n",
              "      <th>Training Loss</th>\n",
              "      <th>Validation Loss</th>\n",
              "    </tr>\n",
              "  </thead>\n",
              "  <tbody>\n",
              "  </tbody>\n",
              "</table><p>"
            ],
            "text/plain": [
              "<IPython.core.display.HTML object>"
            ]
          },
          "metadata": {
            "tags": []
          }
        },
        {
          "output_type": "execute_result",
          "data": {
            "text/plain": [
              "TrainOutput(global_step=1600, training_loss=0.03871216297149658, metrics={'train_runtime': 811.1744, 'train_samples_per_second': 1.972, 'total_flos': 889359866449920.0, 'epoch': 40.0, 'init_mem_cpu_alloc_delta': 0, 'init_mem_gpu_alloc_delta': 0, 'init_mem_cpu_peaked_delta': 0, 'init_mem_gpu_peaked_delta': 0, 'train_mem_cpu_alloc_delta': 798720, 'train_mem_gpu_alloc_delta': 1303379456, 'train_mem_cpu_peaked_delta': 57344, 'train_mem_gpu_peaked_delta': 430759936})"
            ]
          },
          "metadata": {
            "tags": []
          },
          "execution_count": 187
        }
      ]
    },
    {
      "cell_type": "code",
      "metadata": {
        "colab": {
          "base_uri": "https://localhost:8080/",
          "height": 190
        },
        "id": "J3-rT9LqVkvm",
        "outputId": "d8a269d9-5ab1-49b5-a912-4b6e7072d731"
      },
      "source": [
        "#evaluation on validation set\n",
        "trainer.evaluate()"
      ],
      "execution_count": null,
      "outputs": [
        {
          "output_type": "display_data",
          "data": {
            "text/html": [
              "\n",
              "    <div>\n",
              "      \n",
              "      <progress value='8' max='8' style='width:300px; height:20px; vertical-align: middle;'></progress>\n",
              "      [8/8 00:00]\n",
              "    </div>\n",
              "    "
            ],
            "text/plain": [
              "<IPython.core.display.HTML object>"
            ]
          },
          "metadata": {
            "tags": []
          }
        },
        {
          "output_type": "execute_result",
          "data": {
            "text/plain": [
              "{'epoch': 40.0,\n",
              " 'eval_accuracy': 0.7672955974842768,\n",
              " 'eval_loss': 1.6630570888519287,\n",
              " 'eval_mem_cpu_alloc_delta': 0,\n",
              " 'eval_mem_cpu_peaked_delta': 0,\n",
              " 'eval_mem_gpu_alloc_delta': 0,\n",
              " 'eval_mem_gpu_peaked_delta': 19226624,\n",
              " 'eval_runtime': 0.794,\n",
              " 'eval_samples_per_second': 200.259}"
            ]
          },
          "metadata": {
            "tags": []
          },
          "execution_count": 188
        }
      ]
    },
    {
      "cell_type": "code",
      "metadata": {
        "colab": {
          "base_uri": "https://localhost:8080/"
        },
        "id": "foAf39hYWPL8",
        "outputId": "6a9ddbf5-6992-47c5-a11b-0c907dca113d"
      },
      "source": [
        "#save final model\n",
        "model_path = \"/gdrive/MyDrive/kaggle/Machathon final round/final classifier\"\n",
        "model.save_pretrained(model_path)\n",
        "tokenizer.save_pretrained(model_path)"
      ],
      "execution_count": null,
      "outputs": [
        {
          "output_type": "execute_result",
          "data": {
            "text/plain": [
              "('/gdrive/MyDrive/kaggle/Machathon final round/final classifier/tokenizer_config.json',\n",
              " '/gdrive/MyDrive/kaggle/Machathon final round/final classifier/special_tokens_map.json',\n",
              " '/gdrive/MyDrive/kaggle/Machathon final round/final classifier/vocab.txt',\n",
              " '/gdrive/MyDrive/kaggle/Machathon final round/final classifier/added_tokens.json',\n",
              " '/gdrive/MyDrive/kaggle/Machathon final round/final classifier/tokenizer.json')"
            ]
          },
          "metadata": {
            "tags": []
          },
          "execution_count": 206
        }
      ]
    },
    {
      "cell_type": "code",
      "metadata": {
        "id": "v8525uvQeDjg"
      },
      "source": [
        "#for reusing the model later\n",
        "\n",
        "#model_path = \"/gdrive/MyDrive/kaggle/Machathon final round/Arabic_Ahmed_Shawky_Classifier\"\n",
        "#model=AutoModelForSequenceClassification.from_pretrained(model_path, num_labels=len(training_text)).to(\"cuda\")\n",
        "#tokenizer=AutoTokenizer.from_pretrained(model_path)"
      ],
      "execution_count": null,
      "outputs": []
    },
    {
      "cell_type": "code",
      "metadata": {
        "id": "gqpN37TCWRj7"
      },
      "source": [
        "#calculate predictions\n",
        "def get_prediction(text):\n",
        "    # prepare our text into tokenized sequence\n",
        "    inputs = tokenizer(text, padding=True, truncation=True, max_length=max_length, return_tensors=\"pt\").to(\"cuda\")\n",
        "    # perform inference to our model\n",
        "    outputs = model(**inputs)\n",
        "    # get output probabilities by doing softmax\n",
        "    probs = outputs[0].softmax(1)\n",
        "    # executing argmax function to get the candidate label\n",
        "    return probs.argmax()"
      ],
      "execution_count": null,
      "outputs": []
    },
    {
      "cell_type": "code",
      "metadata": {
        "id": "L8xYtJx7rZdC"
      },
      "source": [
        "#add predictions to numpy array\n",
        "predictions=[]\n",
        "uniq=list(training_text[\"intent\"].unique())\n",
        "for index, row in testing_text.iterrows():\n",
        "  predictions.append([index,uniq[get_prediction(row[\"text\"]).item()]])\n",
        "predictions=np.array(predictions)"
      ],
      "execution_count": null,
      "outputs": []
    },
    {
      "cell_type": "code",
      "metadata": {
        "id": "EJpuvIsxIAFj"
      },
      "source": [
        "pd.DataFrame(predictions, columns = ['index', 'intent']).to_csv(\"/gdrive/MyDrive/kaggle/Machathon final round/final classifier/pred.csv\", index=False)"
      ],
      "execution_count": null,
      "outputs": []
    },
    {
      "cell_type": "code",
      "metadata": {
        "colab": {
          "base_uri": "https://localhost:8080/",
          "height": 350
        },
        "id": "ehT_AaBAQXmI",
        "outputId": "197f34f2-c5f0-4230-e147-8d57df4ef0b1"
      },
      "source": [
        "#plot predictions against different labels\n",
        "out=[]\n",
        "for i in predictions:\n",
        "  out.append(i[1])\n",
        "pd.Series(x).hist(bins = 10,figsize=(40,10))"
      ],
      "execution_count": null,
      "outputs": [
        {
          "output_type": "execute_result",
          "data": {
            "text/plain": [
              "<matplotlib.axes._subplots.AxesSubplot at 0x7f060a2c05d0>"
            ]
          },
          "metadata": {
            "tags": []
          },
          "execution_count": 233
        },
        {
          "output_type": "display_data",
          "data": {
            "image/png": "[encoded data removed]",
            "text/plain": [
              "<Figure size 2880x720 with 1 Axes>"
            ]
          },
          "metadata": {
            "tags": [],
            "needs_background": "light"
          }
        }
      ]
    },
    {
      "cell_type": "code",
      "metadata": {
        "id": "obkJsQyIRQuS"
      },
      "source": [
        ""
      ],
      "execution_count": null,
      "outputs": []
    }
  ]
}